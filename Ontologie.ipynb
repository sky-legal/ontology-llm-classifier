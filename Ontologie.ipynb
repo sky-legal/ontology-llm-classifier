{
 "cells": [
  {
   "cell_type": "markdown",
   "id": "e6faf275-0ec6-43ce-939b-9c68f6c8b6f8",
   "metadata": {},
   "source": [
    "# Cellule 1 – Importations et configuration du client OpenAI"
   ]
  },
  {
   "cell_type": "code",
   "execution_count": 1,
   "id": "72cb66e2-21dc-4434-8e80-535f4ab938ea",
   "metadata": {},
   "outputs": [],
   "source": [
    "from pydantic import BaseModel\n",
    "from openai import OpenAI\n",
    "import json\n",
    "\n",
    "client = OpenAI()\n"
   ]
  },
  {
   "cell_type": "markdown",
   "id": "54208cac-5735-4462-a898-a676672c56fc",
   "metadata": {},
   "source": [
    "# Cellule 2 – Chargement de l'ontologie depuis le fichier JSON
domaines-demo.json est une classification de démonstration"
   ]
  },
  {
   "cell_type": "code",
   "execution_count": 2,
   "id": "6989dd6f-93f0-4e40-aa14-fc47d4a11e4f",
   "metadata": {},
   "outputs": [],
   "source": [
    "with open(\"domaines.json\", \"r\", encoding=\"utf-8\") as f:\n",
    "    ontology = json.load(f)\n"
   ]
  },
  {
   "cell_type": "markdown",
   "id": "6267e4f5-055f-472d-a109-fee7442b0be6",
   "metadata": {},
   "source": [
    "# Cellule 3 - Formatage des modèles de données avec Pydantic"
   ]
  },
  {
   "cell_type": "code",
   "execution_count": 5,
   "id": "61a7d220-03c8-4ce1-a8e8-d5b27cc258cf",
   "metadata": {},
   "outputs": [],
   "source": [
    "class LabelItem(BaseModel):\n",
    "    label: str\n",
    "    probabilite: float\n",
    "\n",
    "class Classification(BaseModel):\n",
    "    categorie: str\n",
    "    etiquettes: list[LabelItem]\n"
   ]
  },
  {
   "cell_type": "markdown",
   "id": "2f3bffc9-2581-4887-ba9c-18a73c2c728f",
   "metadata": {},
   "source": [
    "# Cellule 4 – Prompt pour l'appel à l'API"
   ]
  },
  {
   "cell_type": "code",
   "execution_count": 3,
   "id": "2a3e5c3f-fcf4-4f7d-b20c-0713a5547c64",
   "metadata": {},
   "outputs": [],
   "source": [
    "prompt = (\n",
    "    f\"Voici l'ontologie des domaines du droit: {json.dumps(ontology, ensure_ascii=False)}. \"\n",
    "    \"Effectue uniquement une opération de matching pour identifier le domaine le plus approprié pour le texte suivant. \"\n",
    "    \"Retourne 3 labels issus de l'ontologie et leur probabilité. Texte: 'Le gouvernement a adopté une nouvelle réforme des retraites.'\"\n",
    ")\n"
   ]
  },
  {
   "cell_type": "markdown",
   "id": "6984c531-5c8b-4bfd-8fe3-5b6a76bb63fb",
   "metadata": {},
   "source": [
    "# Cell 5 - Appel de l'API OpenAI pour obtenir la classification"
   ]
  },
  {
   "cell_type": "code",
   "execution_count": 6,
   "id": "8f839080-2fd5-484e-9924-10ae79e62826",
   "metadata": {},
   "outputs": [],
   "source": [
    "completion = client.beta.chat.completions.parse(\n",
    "    model=\"gpt-4o-2024-08-06\",\n",
    "    messages=[\n",
    "        {\n",
    "            \"role\": \"system\",\n",
    "            \"content\": \"Tu es un classificateur en droit utilisant une ontologie. \"\n",
    "                       \"Effectue uniquement une opération de matching et retourne 3 labels issus de l'ontologie, \"\n",
    "        },\n",
    "        {\"role\": \"user\", \"content\": prompt}\n",
    "    ],\n",
    "    response_format=Classification\n",
    ")\n"
   ]
  },
  {
   "cell_type": "markdown",
   "id": "447de070-e33e-4a7f-adb9-b78dc1a4c9e0",
   "metadata": {},
   "source": [
    "# Cellule 6 – Affichage du résultat sous forme de JSON formaté"
   ]
  },
  {
   "cell_type": "code",
   "execution_count": 7,
   "id": "2be3e868-4234-451d-a81c-78b7879f1cf0",
   "metadata": {},
   "outputs": [
    {
     "name": "stdout",
     "output_type": "stream",
     "text": [
      "{\n",
      "  \"categorie\": \"Branche du droit\",\n",
      "  \"etiquettes\": [\n",
      "    {\n",
      "      \"label\": \"Droit social\",\n",
      "      \"probabilite\": 0.85\n",
      "    },\n",
      "    {\n",
      "      \"label\": \"Droit de la sécurité sociale\",\n",
      "      \"probabilite\": 0.75\n",
      "    },\n",
      "    {\n",
      "      \"label\": \"Droit public\",\n",
      "      \"probabilite\": 0.5\n",
      "    }\n",
      "  ]\n",
      "}\n"
     ]
    }
   ],
   "source": [
    "print(json.dumps(completion.choices[0].message.parsed.model_dump(), indent=2, ensure_ascii=False))\n"
   ]
  },
  {
   "cell_type": "code",
   "execution_count": null,
   "id": "2eaedd76-66f2-4883-9836-67786082a929",
   "metadata": {},
   "outputs": [],
   "source": []
  }
 ],
 "metadata": {
  "kernelspec": {
   "display_name": "Python 3 (ipykernel)",
   "language": "python",
   "name": "python3"
  },
  "language_info": {
   "codemirror_mode": {
    "name": "ipython",
    "version": 3
   },
   "file_extension": ".py",
   "mimetype": "text/x-python",
   "name": "python",
   "nbconvert_exporter": "python",
   "pygments_lexer": "ipython3",
   "version": "3.10.10"
  }
 },
 "nbformat": 4,
 "nbformat_minor": 5
}
